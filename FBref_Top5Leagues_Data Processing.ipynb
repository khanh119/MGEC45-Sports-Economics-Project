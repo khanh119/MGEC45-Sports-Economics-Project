{
 "cells": [
  {
   "cell_type": "code",
   "execution_count": 1,
   "id": "aa33a67a-a23b-4210-9307-138a169a0413",
   "metadata": {},
   "outputs": [
    {
     "name": "stdout",
     "output_type": "stream",
     "text": [
      "{'Date': 'Wed, 29 Jan 2025 04:24:58 GMT', 'Content-Type': 'text/html; charset=UTF-8', 'Transfer-Encoding': 'chunked', 'Connection': 'keep-alive', 'sr-memd-cache-duration': 'long', 'sr-hit-memd-key': 'comps/comp_season.fcgi.fcgi?lang=en&comp_id=9&year_id=2019-2020', 'strict-transport-security': 'max-age=2592000; includeSubDomains', 'vary': 'Accept-Encoding', 'Last-Modified': 'Wed, 29 Jan 2025 04:24:58 GMT', 'CF-Cache-Status': 'MISS', 'Expires': 'Wed, 29 Jan 2025 08:24:58 GMT', 'Cache-Control': 'public, max-age=14400', 'Set-Cookie': '__cf_bm=FrTQiLh4NWKiG70wsmEcuZXx1pHT5MerLwTxReU6gZQ-1738124698-1.0.1.1-65.oLHHkiMVprRvJYaE0z6hW4l3CgU_3PRicrFfH4EUXsNXkZsiXwWquNEMcMet1j4TIvdHr8fGQqyxp174P6g; path=/; expires=Wed, 29-Jan-25 04:54:58 GMT; domain=.fbref.com; HttpOnly; Secure; SameSite=None', 'Server': 'cloudflare', 'CF-RAY': '909674970fe2abfa-YYZ', 'Content-Encoding': 'gzip'}\n"
     ]
    }
   ],
   "source": [
    "import requests\n",
    "\n",
    "response = requests.get(\"https://fbref.com/en/comps/9/2019-2020/2019-2020-Premier-League-Stats\")\n",
    "print(response.headers)"
   ]
  },
  {
   "cell_type": "code",
   "execution_count": 2,
   "id": "34c3a0d0-53a1-4e8f-901e-d3068376abf0",
   "metadata": {},
   "outputs": [
    {
     "name": "stdout",
     "output_type": "stream",
     "text": [
      "Fetching data for Liverpool (2018-2019)...\n",
      "Saved data for Liverpool (2018-2019) to Liverpool_2018-2019_match_data.csv\n"
     ]
    },
    {
     "name": "stderr",
     "output_type": "stream",
     "text": [
      "/tmp/ipykernel_532/2617673278.py:45: FutureWarning: Passing literal html to 'read_html' is deprecated and will be removed in a future version. To read from a literal string, wrap it in a 'StringIO' object.\n",
      "  df = pd.read_html(response.text, attrs={\"id\": \"matchlogs_for\"})[0]\n"
     ]
    },
    {
     "name": "stdout",
     "output_type": "stream",
     "text": [
      "Fetching data for Liverpool (2019-2020)...\n"
     ]
    },
    {
     "name": "stderr",
     "output_type": "stream",
     "text": [
      "/tmp/ipykernel_532/2617673278.py:45: FutureWarning: Passing literal html to 'read_html' is deprecated and will be removed in a future version. To read from a literal string, wrap it in a 'StringIO' object.\n",
      "  df = pd.read_html(response.text, attrs={\"id\": \"matchlogs_for\"})[0]\n"
     ]
    },
    {
     "name": "stdout",
     "output_type": "stream",
     "text": [
      "Saved data for Liverpool (2019-2020) to Liverpool_2019-2020_match_data.csv\n",
      "Fetching data for Liverpool (2020-2021)...\n"
     ]
    },
    {
     "name": "stderr",
     "output_type": "stream",
     "text": [
      "/tmp/ipykernel_532/2617673278.py:45: FutureWarning: Passing literal html to 'read_html' is deprecated and will be removed in a future version. To read from a literal string, wrap it in a 'StringIO' object.\n",
      "  df = pd.read_html(response.text, attrs={\"id\": \"matchlogs_for\"})[0]\n"
     ]
    },
    {
     "name": "stdout",
     "output_type": "stream",
     "text": [
      "Saved data for Liverpool (2020-2021) to Liverpool_2020-2021_match_data.csv\n",
      "Fetching data for Liverpool (2021-2022)...\n"
     ]
    },
    {
     "name": "stderr",
     "output_type": "stream",
     "text": [
      "/tmp/ipykernel_532/2617673278.py:45: FutureWarning: Passing literal html to 'read_html' is deprecated and will be removed in a future version. To read from a literal string, wrap it in a 'StringIO' object.\n",
      "  df = pd.read_html(response.text, attrs={\"id\": \"matchlogs_for\"})[0]\n"
     ]
    },
    {
     "name": "stdout",
     "output_type": "stream",
     "text": [
      "Saved data for Liverpool (2021-2022) to Liverpool_2021-2022_match_data.csv\n",
      "Fetching data for Liverpool (2022-2023)...\n",
      "Saved data for Liverpool (2022-2023) to Liverpool_2022-2023_match_data.csv\n"
     ]
    },
    {
     "name": "stderr",
     "output_type": "stream",
     "text": [
      "/tmp/ipykernel_532/2617673278.py:45: FutureWarning: Passing literal html to 'read_html' is deprecated and will be removed in a future version. To read from a literal string, wrap it in a 'StringIO' object.\n",
      "  df = pd.read_html(response.text, attrs={\"id\": \"matchlogs_for\"})[0]\n"
     ]
    },
    {
     "name": "stdout",
     "output_type": "stream",
     "text": [
      "Fetching data for Arsenal (2018-2019)...\n",
      "Saved data for Arsenal (2018-2019) to Arsenal_2018-2019_match_data.csv\n"
     ]
    },
    {
     "name": "stderr",
     "output_type": "stream",
     "text": [
      "/tmp/ipykernel_532/2617673278.py:45: FutureWarning: Passing literal html to 'read_html' is deprecated and will be removed in a future version. To read from a literal string, wrap it in a 'StringIO' object.\n",
      "  df = pd.read_html(response.text, attrs={\"id\": \"matchlogs_for\"})[0]\n"
     ]
    },
    {
     "name": "stdout",
     "output_type": "stream",
     "text": [
      "Fetching data for Arsenal (2019-2020)...\n",
      "Saved data for Arsenal (2019-2020) to Arsenal_2019-2020_match_data.csv\n"
     ]
    },
    {
     "name": "stderr",
     "output_type": "stream",
     "text": [
      "/tmp/ipykernel_532/2617673278.py:45: FutureWarning: Passing literal html to 'read_html' is deprecated and will be removed in a future version. To read from a literal string, wrap it in a 'StringIO' object.\n",
      "  df = pd.read_html(response.text, attrs={\"id\": \"matchlogs_for\"})[0]\n"
     ]
    },
    {
     "name": "stdout",
     "output_type": "stream",
     "text": [
      "Fetching data for Arsenal (2020-2021)...\n"
     ]
    },
    {
     "name": "stderr",
     "output_type": "stream",
     "text": [
      "/tmp/ipykernel_532/2617673278.py:45: FutureWarning: Passing literal html to 'read_html' is deprecated and will be removed in a future version. To read from a literal string, wrap it in a 'StringIO' object.\n",
      "  df = pd.read_html(response.text, attrs={\"id\": \"matchlogs_for\"})[0]\n"
     ]
    },
    {
     "name": "stdout",
     "output_type": "stream",
     "text": [
      "Saved data for Arsenal (2020-2021) to Arsenal_2020-2021_match_data.csv\n",
      "Fetching data for Arsenal (2021-2022)...\n",
      "Saved data for Arsenal (2021-2022) to Arsenal_2021-2022_match_data.csv\n"
     ]
    },
    {
     "name": "stderr",
     "output_type": "stream",
     "text": [
      "/tmp/ipykernel_532/2617673278.py:45: FutureWarning: Passing literal html to 'read_html' is deprecated and will be removed in a future version. To read from a literal string, wrap it in a 'StringIO' object.\n",
      "  df = pd.read_html(response.text, attrs={\"id\": \"matchlogs_for\"})[0]\n"
     ]
    },
    {
     "name": "stdout",
     "output_type": "stream",
     "text": [
      "Fetching data for Arsenal (2022-2023)...\n",
      "Saved data for Arsenal (2022-2023) to Arsenal_2022-2023_match_data.csv\n"
     ]
    },
    {
     "name": "stderr",
     "output_type": "stream",
     "text": [
      "/tmp/ipykernel_532/2617673278.py:45: FutureWarning: Passing literal html to 'read_html' is deprecated and will be removed in a future version. To read from a literal string, wrap it in a 'StringIO' object.\n",
      "  df = pd.read_html(response.text, attrs={\"id\": \"matchlogs_for\"})[0]\n"
     ]
    },
    {
     "name": "stdout",
     "output_type": "stream",
     "text": [
      "Fetching data for Nottingham-Forest (2018-2019)...\n",
      "Saved data for Nottingham-Forest (2018-2019) to Nottingham-Forest_2018-2019_match_data.csv\n"
     ]
    },
    {
     "name": "stderr",
     "output_type": "stream",
     "text": [
      "/tmp/ipykernel_532/2617673278.py:45: FutureWarning: Passing literal html to 'read_html' is deprecated and will be removed in a future version. To read from a literal string, wrap it in a 'StringIO' object.\n",
      "  df = pd.read_html(response.text, attrs={\"id\": \"matchlogs_for\"})[0]\n"
     ]
    },
    {
     "name": "stdout",
     "output_type": "stream",
     "text": [
      "Fetching data for Nottingham-Forest (2019-2020)...\n",
      "Saved data for Nottingham-Forest (2019-2020) to Nottingham-Forest_2019-2020_match_data.csv\n"
     ]
    },
    {
     "name": "stderr",
     "output_type": "stream",
     "text": [
      "/tmp/ipykernel_532/2617673278.py:45: FutureWarning: Passing literal html to 'read_html' is deprecated and will be removed in a future version. To read from a literal string, wrap it in a 'StringIO' object.\n",
      "  df = pd.read_html(response.text, attrs={\"id\": \"matchlogs_for\"})[0]\n"
     ]
    },
    {
     "name": "stdout",
     "output_type": "stream",
     "text": [
      "Fetching data for Nottingham-Forest (2020-2021)...\n"
     ]
    },
    {
     "name": "stderr",
     "output_type": "stream",
     "text": [
      "/tmp/ipykernel_532/2617673278.py:45: FutureWarning: Passing literal html to 'read_html' is deprecated and will be removed in a future version. To read from a literal string, wrap it in a 'StringIO' object.\n",
      "  df = pd.read_html(response.text, attrs={\"id\": \"matchlogs_for\"})[0]\n"
     ]
    },
    {
     "name": "stdout",
     "output_type": "stream",
     "text": [
      "Saved data for Nottingham-Forest (2020-2021) to Nottingham-Forest_2020-2021_match_data.csv\n",
      "Fetching data for Nottingham-Forest (2021-2022)...\n",
      "Saved data for Nottingham-Forest (2021-2022) to Nottingham-Forest_2021-2022_match_data.csv\n"
     ]
    },
    {
     "name": "stderr",
     "output_type": "stream",
     "text": [
      "/tmp/ipykernel_532/2617673278.py:45: FutureWarning: Passing literal html to 'read_html' is deprecated and will be removed in a future version. To read from a literal string, wrap it in a 'StringIO' object.\n",
      "  df = pd.read_html(response.text, attrs={\"id\": \"matchlogs_for\"})[0]\n"
     ]
    },
    {
     "name": "stdout",
     "output_type": "stream",
     "text": [
      "Fetching data for Nottingham-Forest (2022-2023)...\n"
     ]
    },
    {
     "name": "stderr",
     "output_type": "stream",
     "text": [
      "/tmp/ipykernel_532/2617673278.py:45: FutureWarning: Passing literal html to 'read_html' is deprecated and will be removed in a future version. To read from a literal string, wrap it in a 'StringIO' object.\n",
      "  df = pd.read_html(response.text, attrs={\"id\": \"matchlogs_for\"})[0]\n"
     ]
    },
    {
     "name": "stdout",
     "output_type": "stream",
     "text": [
      "Saved data for Nottingham-Forest (2022-2023) to Nottingham-Forest_2022-2023_match_data.csv\n",
      "Fetching data for Manchester-City (2018-2019)...\n"
     ]
    },
    {
     "name": "stderr",
     "output_type": "stream",
     "text": [
      "/tmp/ipykernel_532/2617673278.py:45: FutureWarning: Passing literal html to 'read_html' is deprecated and will be removed in a future version. To read from a literal string, wrap it in a 'StringIO' object.\n",
      "  df = pd.read_html(response.text, attrs={\"id\": \"matchlogs_for\"})[0]\n"
     ]
    },
    {
     "name": "stdout",
     "output_type": "stream",
     "text": [
      "Saved data for Manchester-City (2018-2019) to Manchester-City_2018-2019_match_data.csv\n",
      "Fetching data for Manchester-City (2019-2020)...\n"
     ]
    },
    {
     "name": "stderr",
     "output_type": "stream",
     "text": [
      "/tmp/ipykernel_532/2617673278.py:45: FutureWarning: Passing literal html to 'read_html' is deprecated and will be removed in a future version. To read from a literal string, wrap it in a 'StringIO' object.\n",
      "  df = pd.read_html(response.text, attrs={\"id\": \"matchlogs_for\"})[0]\n"
     ]
    },
    {
     "name": "stdout",
     "output_type": "stream",
     "text": [
      "Saved data for Manchester-City (2019-2020) to Manchester-City_2019-2020_match_data.csv\n",
      "Fetching data for Manchester-City (2020-2021)...\n"
     ]
    },
    {
     "name": "stderr",
     "output_type": "stream",
     "text": [
      "/tmp/ipykernel_532/2617673278.py:45: FutureWarning: Passing literal html to 'read_html' is deprecated and will be removed in a future version. To read from a literal string, wrap it in a 'StringIO' object.\n",
      "  df = pd.read_html(response.text, attrs={\"id\": \"matchlogs_for\"})[0]\n"
     ]
    },
    {
     "name": "stdout",
     "output_type": "stream",
     "text": [
      "Saved data for Manchester-City (2020-2021) to Manchester-City_2020-2021_match_data.csv\n",
      "Fetching data for Manchester-City (2021-2022)...\n"
     ]
    },
    {
     "name": "stderr",
     "output_type": "stream",
     "text": [
      "/tmp/ipykernel_532/2617673278.py:45: FutureWarning: Passing literal html to 'read_html' is deprecated and will be removed in a future version. To read from a literal string, wrap it in a 'StringIO' object.\n",
      "  df = pd.read_html(response.text, attrs={\"id\": \"matchlogs_for\"})[0]\n"
     ]
    },
    {
     "name": "stdout",
     "output_type": "stream",
     "text": [
      "Saved data for Manchester-City (2021-2022) to Manchester-City_2021-2022_match_data.csv\n",
      "Fetching data for Manchester-City (2022-2023)...\n",
      "Saved data for Manchester-City (2022-2023) to Manchester-City_2022-2023_match_data.csv\n"
     ]
    },
    {
     "name": "stderr",
     "output_type": "stream",
     "text": [
      "/tmp/ipykernel_532/2617673278.py:45: FutureWarning: Passing literal html to 'read_html' is deprecated and will be removed in a future version. To read from a literal string, wrap it in a 'StringIO' object.\n",
      "  df = pd.read_html(response.text, attrs={\"id\": \"matchlogs_for\"})[0]\n"
     ]
    },
    {
     "name": "stdout",
     "output_type": "stream",
     "text": [
      "Fetching data for Newcastle-United (2018-2019)...\n"
     ]
    },
    {
     "name": "stderr",
     "output_type": "stream",
     "text": [
      "/tmp/ipykernel_532/2617673278.py:45: FutureWarning: Passing literal html to 'read_html' is deprecated and will be removed in a future version. To read from a literal string, wrap it in a 'StringIO' object.\n",
      "  df = pd.read_html(response.text, attrs={\"id\": \"matchlogs_for\"})[0]\n"
     ]
    },
    {
     "name": "stdout",
     "output_type": "stream",
     "text": [
      "Saved data for Newcastle-United (2018-2019) to Newcastle-United_2018-2019_match_data.csv\n",
      "Fetching data for Newcastle-United (2019-2020)...\n"
     ]
    },
    {
     "name": "stderr",
     "output_type": "stream",
     "text": [
      "/tmp/ipykernel_532/2617673278.py:45: FutureWarning: Passing literal html to 'read_html' is deprecated and will be removed in a future version. To read from a literal string, wrap it in a 'StringIO' object.\n",
      "  df = pd.read_html(response.text, attrs={\"id\": \"matchlogs_for\"})[0]\n"
     ]
    },
    {
     "name": "stdout",
     "output_type": "stream",
     "text": [
      "Saved data for Newcastle-United (2019-2020) to Newcastle-United_2019-2020_match_data.csv\n",
      "Fetching data for Newcastle-United (2020-2021)...\n"
     ]
    },
    {
     "name": "stderr",
     "output_type": "stream",
     "text": [
      "/tmp/ipykernel_532/2617673278.py:45: FutureWarning: Passing literal html to 'read_html' is deprecated and will be removed in a future version. To read from a literal string, wrap it in a 'StringIO' object.\n",
      "  df = pd.read_html(response.text, attrs={\"id\": \"matchlogs_for\"})[0]\n"
     ]
    },
    {
     "name": "stdout",
     "output_type": "stream",
     "text": [
      "Saved data for Newcastle-United (2020-2021) to Newcastle-United_2020-2021_match_data.csv\n",
      "Fetching data for Newcastle-United (2021-2022)...\n"
     ]
    },
    {
     "name": "stderr",
     "output_type": "stream",
     "text": [
      "/tmp/ipykernel_532/2617673278.py:45: FutureWarning: Passing literal html to 'read_html' is deprecated and will be removed in a future version. To read from a literal string, wrap it in a 'StringIO' object.\n",
      "  df = pd.read_html(response.text, attrs={\"id\": \"matchlogs_for\"})[0]\n"
     ]
    },
    {
     "name": "stdout",
     "output_type": "stream",
     "text": [
      "Saved data for Newcastle-United (2021-2022) to Newcastle-United_2021-2022_match_data.csv\n",
      "Fetching data for Newcastle-United (2022-2023)...\n"
     ]
    },
    {
     "name": "stderr",
     "output_type": "stream",
     "text": [
      "/tmp/ipykernel_532/2617673278.py:45: FutureWarning: Passing literal html to 'read_html' is deprecated and will be removed in a future version. To read from a literal string, wrap it in a 'StringIO' object.\n",
      "  df = pd.read_html(response.text, attrs={\"id\": \"matchlogs_for\"})[0]\n"
     ]
    },
    {
     "name": "stdout",
     "output_type": "stream",
     "text": [
      "Saved data for Newcastle-United (2022-2023) to Newcastle-United_2022-2023_match_data.csv\n",
      "Fetching data for Chelsea (2018-2019)...\n"
     ]
    },
    {
     "name": "stderr",
     "output_type": "stream",
     "text": [
      "/tmp/ipykernel_532/2617673278.py:45: FutureWarning: Passing literal html to 'read_html' is deprecated and will be removed in a future version. To read from a literal string, wrap it in a 'StringIO' object.\n",
      "  df = pd.read_html(response.text, attrs={\"id\": \"matchlogs_for\"})[0]\n"
     ]
    },
    {
     "name": "stdout",
     "output_type": "stream",
     "text": [
      "Saved data for Chelsea (2018-2019) to Chelsea_2018-2019_match_data.csv\n",
      "Fetching data for Chelsea (2019-2020)...\n"
     ]
    },
    {
     "name": "stderr",
     "output_type": "stream",
     "text": [
      "/tmp/ipykernel_532/2617673278.py:45: FutureWarning: Passing literal html to 'read_html' is deprecated and will be removed in a future version. To read from a literal string, wrap it in a 'StringIO' object.\n",
      "  df = pd.read_html(response.text, attrs={\"id\": \"matchlogs_for\"})[0]\n"
     ]
    },
    {
     "name": "stdout",
     "output_type": "stream",
     "text": [
      "Saved data for Chelsea (2019-2020) to Chelsea_2019-2020_match_data.csv\n",
      "Fetching data for Chelsea (2020-2021)...\n",
      "Saved data for Chelsea (2020-2021) to Chelsea_2020-2021_match_data.csv\n"
     ]
    },
    {
     "name": "stderr",
     "output_type": "stream",
     "text": [
      "/tmp/ipykernel_532/2617673278.py:45: FutureWarning: Passing literal html to 'read_html' is deprecated and will be removed in a future version. To read from a literal string, wrap it in a 'StringIO' object.\n",
      "  df = pd.read_html(response.text, attrs={\"id\": \"matchlogs_for\"})[0]\n"
     ]
    },
    {
     "name": "stdout",
     "output_type": "stream",
     "text": [
      "Fetching data for Chelsea (2021-2022)...\n",
      "Saved data for Chelsea (2021-2022) to Chelsea_2021-2022_match_data.csv\n"
     ]
    },
    {
     "name": "stderr",
     "output_type": "stream",
     "text": [
      "/tmp/ipykernel_532/2617673278.py:45: FutureWarning: Passing literal html to 'read_html' is deprecated and will be removed in a future version. To read from a literal string, wrap it in a 'StringIO' object.\n",
      "  df = pd.read_html(response.text, attrs={\"id\": \"matchlogs_for\"})[0]\n"
     ]
    },
    {
     "name": "stdout",
     "output_type": "stream",
     "text": [
      "Fetching data for Chelsea (2022-2023)...\n",
      "Saved data for Chelsea (2022-2023) to Chelsea_2022-2023_match_data.csv\n"
     ]
    },
    {
     "name": "stderr",
     "output_type": "stream",
     "text": [
      "/tmp/ipykernel_532/2617673278.py:45: FutureWarning: Passing literal html to 'read_html' is deprecated and will be removed in a future version. To read from a literal string, wrap it in a 'StringIO' object.\n",
      "  df = pd.read_html(response.text, attrs={\"id\": \"matchlogs_for\"})[0]\n"
     ]
    },
    {
     "name": "stdout",
     "output_type": "stream",
     "text": [
      "Fetching data for Bournemouth (2018-2019)...\n"
     ]
    },
    {
     "name": "stderr",
     "output_type": "stream",
     "text": [
      "/tmp/ipykernel_532/2617673278.py:45: FutureWarning: Passing literal html to 'read_html' is deprecated and will be removed in a future version. To read from a literal string, wrap it in a 'StringIO' object.\n",
      "  df = pd.read_html(response.text, attrs={\"id\": \"matchlogs_for\"})[0]\n"
     ]
    },
    {
     "name": "stdout",
     "output_type": "stream",
     "text": [
      "Saved data for Bournemouth (2018-2019) to Bournemouth_2018-2019_match_data.csv\n",
      "Fetching data for Bournemouth (2019-2020)...\n"
     ]
    },
    {
     "name": "stderr",
     "output_type": "stream",
     "text": [
      "/tmp/ipykernel_532/2617673278.py:45: FutureWarning: Passing literal html to 'read_html' is deprecated and will be removed in a future version. To read from a literal string, wrap it in a 'StringIO' object.\n",
      "  df = pd.read_html(response.text, attrs={\"id\": \"matchlogs_for\"})[0]\n"
     ]
    },
    {
     "name": "stdout",
     "output_type": "stream",
     "text": [
      "Saved data for Bournemouth (2019-2020) to Bournemouth_2019-2020_match_data.csv\n",
      "Fetching data for Bournemouth (2020-2021)...\n"
     ]
    },
    {
     "name": "stderr",
     "output_type": "stream",
     "text": [
      "/tmp/ipykernel_532/2617673278.py:45: FutureWarning: Passing literal html to 'read_html' is deprecated and will be removed in a future version. To read from a literal string, wrap it in a 'StringIO' object.\n",
      "  df = pd.read_html(response.text, attrs={\"id\": \"matchlogs_for\"})[0]\n"
     ]
    },
    {
     "name": "stdout",
     "output_type": "stream",
     "text": [
      "Saved data for Bournemouth (2020-2021) to Bournemouth_2020-2021_match_data.csv\n",
      "Fetching data for Bournemouth (2021-2022)...\n"
     ]
    },
    {
     "name": "stderr",
     "output_type": "stream",
     "text": [
      "/tmp/ipykernel_532/2617673278.py:45: FutureWarning: Passing literal html to 'read_html' is deprecated and will be removed in a future version. To read from a literal string, wrap it in a 'StringIO' object.\n",
      "  df = pd.read_html(response.text, attrs={\"id\": \"matchlogs_for\"})[0]\n"
     ]
    },
    {
     "name": "stdout",
     "output_type": "stream",
     "text": [
      "Saved data for Bournemouth (2021-2022) to Bournemouth_2021-2022_match_data.csv\n",
      "Fetching data for Bournemouth (2022-2023)...\n",
      "Saved data for Bournemouth (2022-2023) to Bournemouth_2022-2023_match_data.csv\n"
     ]
    },
    {
     "name": "stderr",
     "output_type": "stream",
     "text": [
      "/tmp/ipykernel_532/2617673278.py:45: FutureWarning: Passing literal html to 'read_html' is deprecated and will be removed in a future version. To read from a literal string, wrap it in a 'StringIO' object.\n",
      "  df = pd.read_html(response.text, attrs={\"id\": \"matchlogs_for\"})[0]\n"
     ]
    },
    {
     "name": "stdout",
     "output_type": "stream",
     "text": [
      "Fetching data for Aston-Villa (2018-2019)...\n"
     ]
    },
    {
     "name": "stderr",
     "output_type": "stream",
     "text": [
      "/tmp/ipykernel_532/2617673278.py:45: FutureWarning: Passing literal html to 'read_html' is deprecated and will be removed in a future version. To read from a literal string, wrap it in a 'StringIO' object.\n",
      "  df = pd.read_html(response.text, attrs={\"id\": \"matchlogs_for\"})[0]\n"
     ]
    },
    {
     "name": "stdout",
     "output_type": "stream",
     "text": [
      "Saved data for Aston-Villa (2018-2019) to Aston-Villa_2018-2019_match_data.csv\n",
      "Fetching data for Aston-Villa (2019-2020)...\n"
     ]
    },
    {
     "name": "stderr",
     "output_type": "stream",
     "text": [
      "/tmp/ipykernel_532/2617673278.py:45: FutureWarning: Passing literal html to 'read_html' is deprecated and will be removed in a future version. To read from a literal string, wrap it in a 'StringIO' object.\n",
      "  df = pd.read_html(response.text, attrs={\"id\": \"matchlogs_for\"})[0]\n"
     ]
    },
    {
     "name": "stdout",
     "output_type": "stream",
     "text": [
      "Saved data for Aston-Villa (2019-2020) to Aston-Villa_2019-2020_match_data.csv\n",
      "Fetching data for Aston-Villa (2020-2021)...\n",
      "Saved data for Aston-Villa (2020-2021) to Aston-Villa_2020-2021_match_data.csv\n"
     ]
    },
    {
     "name": "stderr",
     "output_type": "stream",
     "text": [
      "/tmp/ipykernel_532/2617673278.py:45: FutureWarning: Passing literal html to 'read_html' is deprecated and will be removed in a future version. To read from a literal string, wrap it in a 'StringIO' object.\n",
      "  df = pd.read_html(response.text, attrs={\"id\": \"matchlogs_for\"})[0]\n"
     ]
    },
    {
     "name": "stdout",
     "output_type": "stream",
     "text": [
      "Fetching data for Aston-Villa (2021-2022)...\n"
     ]
    },
    {
     "name": "stderr",
     "output_type": "stream",
     "text": [
      "/tmp/ipykernel_532/2617673278.py:45: FutureWarning: Passing literal html to 'read_html' is deprecated and will be removed in a future version. To read from a literal string, wrap it in a 'StringIO' object.\n",
      "  df = pd.read_html(response.text, attrs={\"id\": \"matchlogs_for\"})[0]\n"
     ]
    },
    {
     "name": "stdout",
     "output_type": "stream",
     "text": [
      "Saved data for Aston-Villa (2021-2022) to Aston-Villa_2021-2022_match_data.csv\n",
      "Fetching data for Aston-Villa (2022-2023)...\n",
      "Saved data for Aston-Villa (2022-2023) to Aston-Villa_2022-2023_match_data.csv\n"
     ]
    },
    {
     "name": "stderr",
     "output_type": "stream",
     "text": [
      "/tmp/ipykernel_532/2617673278.py:45: FutureWarning: Passing literal html to 'read_html' is deprecated and will be removed in a future version. To read from a literal string, wrap it in a 'StringIO' object.\n",
      "  df = pd.read_html(response.text, attrs={\"id\": \"matchlogs_for\"})[0]\n"
     ]
    },
    {
     "name": "stdout",
     "output_type": "stream",
     "text": [
      "Fetching data for Brighton-and-Hove-Albion (2018-2019)...\n"
     ]
    },
    {
     "name": "stderr",
     "output_type": "stream",
     "text": [
      "/tmp/ipykernel_532/2617673278.py:45: FutureWarning: Passing literal html to 'read_html' is deprecated and will be removed in a future version. To read from a literal string, wrap it in a 'StringIO' object.\n",
      "  df = pd.read_html(response.text, attrs={\"id\": \"matchlogs_for\"})[0]\n"
     ]
    },
    {
     "name": "stdout",
     "output_type": "stream",
     "text": [
      "Saved data for Brighton-and-Hove-Albion (2018-2019) to Brighton-and-Hove-Albion_2018-2019_match_data.csv\n",
      "Fetching data for Brighton-and-Hove-Albion (2019-2020)...\n"
     ]
    },
    {
     "name": "stderr",
     "output_type": "stream",
     "text": [
      "/tmp/ipykernel_532/2617673278.py:45: FutureWarning: Passing literal html to 'read_html' is deprecated and will be removed in a future version. To read from a literal string, wrap it in a 'StringIO' object.\n",
      "  df = pd.read_html(response.text, attrs={\"id\": \"matchlogs_for\"})[0]\n"
     ]
    },
    {
     "name": "stdout",
     "output_type": "stream",
     "text": [
      "Saved data for Brighton-and-Hove-Albion (2019-2020) to Brighton-and-Hove-Albion_2019-2020_match_data.csv\n",
      "Fetching data for Brighton-and-Hove-Albion (2020-2021)...\n"
     ]
    },
    {
     "name": "stderr",
     "output_type": "stream",
     "text": [
      "/tmp/ipykernel_532/2617673278.py:45: FutureWarning: Passing literal html to 'read_html' is deprecated and will be removed in a future version. To read from a literal string, wrap it in a 'StringIO' object.\n",
      "  df = pd.read_html(response.text, attrs={\"id\": \"matchlogs_for\"})[0]\n"
     ]
    },
    {
     "name": "stdout",
     "output_type": "stream",
     "text": [
      "Saved data for Brighton-and-Hove-Albion (2020-2021) to Brighton-and-Hove-Albion_2020-2021_match_data.csv\n",
      "Fetching data for Brighton-and-Hove-Albion (2021-2022)...\n"
     ]
    },
    {
     "name": "stderr",
     "output_type": "stream",
     "text": [
      "/tmp/ipykernel_532/2617673278.py:45: FutureWarning: Passing literal html to 'read_html' is deprecated and will be removed in a future version. To read from a literal string, wrap it in a 'StringIO' object.\n",
      "  df = pd.read_html(response.text, attrs={\"id\": \"matchlogs_for\"})[0]\n"
     ]
    },
    {
     "name": "stdout",
     "output_type": "stream",
     "text": [
      "Saved data for Brighton-and-Hove-Albion (2021-2022) to Brighton-and-Hove-Albion_2021-2022_match_data.csv\n",
      "Fetching data for Brighton-and-Hove-Albion (2022-2023)...\n",
      "Saved data for Brighton-and-Hove-Albion (2022-2023) to Brighton-and-Hove-Albion_2022-2023_match_data.csv\n"
     ]
    },
    {
     "name": "stderr",
     "output_type": "stream",
     "text": [
      "/tmp/ipykernel_532/2617673278.py:45: FutureWarning: Passing literal html to 'read_html' is deprecated and will be removed in a future version. To read from a literal string, wrap it in a 'StringIO' object.\n",
      "  df = pd.read_html(response.text, attrs={\"id\": \"matchlogs_for\"})[0]\n"
     ]
    },
    {
     "name": "stdout",
     "output_type": "stream",
     "text": [
      "Fetching data for Fulham (2018-2019)...\n"
     ]
    },
    {
     "name": "stderr",
     "output_type": "stream",
     "text": [
      "/tmp/ipykernel_532/2617673278.py:45: FutureWarning: Passing literal html to 'read_html' is deprecated and will be removed in a future version. To read from a literal string, wrap it in a 'StringIO' object.\n",
      "  df = pd.read_html(response.text, attrs={\"id\": \"matchlogs_for\"})[0]\n"
     ]
    },
    {
     "name": "stdout",
     "output_type": "stream",
     "text": [
      "Saved data for Fulham (2018-2019) to Fulham_2018-2019_match_data.csv\n",
      "Fetching data for Fulham (2019-2020)...\n"
     ]
    },
    {
     "name": "stderr",
     "output_type": "stream",
     "text": [
      "/tmp/ipykernel_532/2617673278.py:45: FutureWarning: Passing literal html to 'read_html' is deprecated and will be removed in a future version. To read from a literal string, wrap it in a 'StringIO' object.\n",
      "  df = pd.read_html(response.text, attrs={\"id\": \"matchlogs_for\"})[0]\n"
     ]
    },
    {
     "name": "stdout",
     "output_type": "stream",
     "text": [
      "Saved data for Fulham (2019-2020) to Fulham_2019-2020_match_data.csv\n",
      "Fetching data for Fulham (2020-2021)...\n"
     ]
    },
    {
     "name": "stderr",
     "output_type": "stream",
     "text": [
      "/tmp/ipykernel_532/2617673278.py:45: FutureWarning: Passing literal html to 'read_html' is deprecated and will be removed in a future version. To read from a literal string, wrap it in a 'StringIO' object.\n",
      "  df = pd.read_html(response.text, attrs={\"id\": \"matchlogs_for\"})[0]\n"
     ]
    },
    {
     "name": "stdout",
     "output_type": "stream",
     "text": [
      "Saved data for Fulham (2020-2021) to Fulham_2020-2021_match_data.csv\n",
      "Fetching data for Fulham (2021-2022)...\n"
     ]
    },
    {
     "name": "stderr",
     "output_type": "stream",
     "text": [
      "/tmp/ipykernel_532/2617673278.py:45: FutureWarning: Passing literal html to 'read_html' is deprecated and will be removed in a future version. To read from a literal string, wrap it in a 'StringIO' object.\n",
      "  df = pd.read_html(response.text, attrs={\"id\": \"matchlogs_for\"})[0]\n"
     ]
    },
    {
     "name": "stdout",
     "output_type": "stream",
     "text": [
      "Saved data for Fulham (2021-2022) to Fulham_2021-2022_match_data.csv\n",
      "Fetching data for Fulham (2022-2023)...\n"
     ]
    },
    {
     "name": "stderr",
     "output_type": "stream",
     "text": [
      "/tmp/ipykernel_532/2617673278.py:45: FutureWarning: Passing literal html to 'read_html' is deprecated and will be removed in a future version. To read from a literal string, wrap it in a 'StringIO' object.\n",
      "  df = pd.read_html(response.text, attrs={\"id\": \"matchlogs_for\"})[0]\n"
     ]
    },
    {
     "name": "stdout",
     "output_type": "stream",
     "text": [
      "Saved data for Fulham (2022-2023) to Fulham_2022-2023_match_data.csv\n",
      "Fetching data for Brentford (2018-2019)...\n"
     ]
    },
    {
     "name": "stderr",
     "output_type": "stream",
     "text": [
      "/tmp/ipykernel_532/2617673278.py:45: FutureWarning: Passing literal html to 'read_html' is deprecated and will be removed in a future version. To read from a literal string, wrap it in a 'StringIO' object.\n",
      "  df = pd.read_html(response.text, attrs={\"id\": \"matchlogs_for\"})[0]\n"
     ]
    },
    {
     "name": "stdout",
     "output_type": "stream",
     "text": [
      "Saved data for Brentford (2018-2019) to Brentford_2018-2019_match_data.csv\n",
      "Fetching data for Brentford (2019-2020)...\n"
     ]
    },
    {
     "name": "stderr",
     "output_type": "stream",
     "text": [
      "/tmp/ipykernel_532/2617673278.py:45: FutureWarning: Passing literal html to 'read_html' is deprecated and will be removed in a future version. To read from a literal string, wrap it in a 'StringIO' object.\n",
      "  df = pd.read_html(response.text, attrs={\"id\": \"matchlogs_for\"})[0]\n"
     ]
    },
    {
     "name": "stdout",
     "output_type": "stream",
     "text": [
      "Saved data for Brentford (2019-2020) to Brentford_2019-2020_match_data.csv\n",
      "Fetching data for Brentford (2020-2021)...\n"
     ]
    },
    {
     "name": "stderr",
     "output_type": "stream",
     "text": [
      "/tmp/ipykernel_532/2617673278.py:45: FutureWarning: Passing literal html to 'read_html' is deprecated and will be removed in a future version. To read from a literal string, wrap it in a 'StringIO' object.\n",
      "  df = pd.read_html(response.text, attrs={\"id\": \"matchlogs_for\"})[0]\n"
     ]
    },
    {
     "name": "stdout",
     "output_type": "stream",
     "text": [
      "Saved data for Brentford (2020-2021) to Brentford_2020-2021_match_data.csv\n",
      "Fetching data for Brentford (2021-2022)...\n"
     ]
    },
    {
     "name": "stderr",
     "output_type": "stream",
     "text": [
      "/tmp/ipykernel_532/2617673278.py:45: FutureWarning: Passing literal html to 'read_html' is deprecated and will be removed in a future version. To read from a literal string, wrap it in a 'StringIO' object.\n",
      "  df = pd.read_html(response.text, attrs={\"id\": \"matchlogs_for\"})[0]\n"
     ]
    },
    {
     "name": "stdout",
     "output_type": "stream",
     "text": [
      "Saved data for Brentford (2021-2022) to Brentford_2021-2022_match_data.csv\n",
      "Fetching data for Brentford (2022-2023)...\n",
      "Saved data for Brentford (2022-2023) to Brentford_2022-2023_match_data.csv\n"
     ]
    },
    {
     "name": "stderr",
     "output_type": "stream",
     "text": [
      "/tmp/ipykernel_532/2617673278.py:45: FutureWarning: Passing literal html to 'read_html' is deprecated and will be removed in a future version. To read from a literal string, wrap it in a 'StringIO' object.\n",
      "  df = pd.read_html(response.text, attrs={\"id\": \"matchlogs_for\"})[0]\n"
     ]
    },
    {
     "name": "stdout",
     "output_type": "stream",
     "text": [
      "Fetching data for Manchester-United (2018-2019)...\n",
      "Saved data for Manchester-United (2018-2019) to Manchester-United_2018-2019_match_data.csv\n"
     ]
    },
    {
     "name": "stderr",
     "output_type": "stream",
     "text": [
      "/tmp/ipykernel_532/2617673278.py:45: FutureWarning: Passing literal html to 'read_html' is deprecated and will be removed in a future version. To read from a literal string, wrap it in a 'StringIO' object.\n",
      "  df = pd.read_html(response.text, attrs={\"id\": \"matchlogs_for\"})[0]\n"
     ]
    },
    {
     "name": "stdout",
     "output_type": "stream",
     "text": [
      "Fetching data for Manchester-United (2019-2020)...\n"
     ]
    },
    {
     "name": "stderr",
     "output_type": "stream",
     "text": [
      "/tmp/ipykernel_532/2617673278.py:45: FutureWarning: Passing literal html to 'read_html' is deprecated and will be removed in a future version. To read from a literal string, wrap it in a 'StringIO' object.\n",
      "  df = pd.read_html(response.text, attrs={\"id\": \"matchlogs_for\"})[0]\n"
     ]
    },
    {
     "name": "stdout",
     "output_type": "stream",
     "text": [
      "Saved data for Manchester-United (2019-2020) to Manchester-United_2019-2020_match_data.csv\n",
      "Fetching data for Manchester-United (2020-2021)...\n"
     ]
    },
    {
     "name": "stderr",
     "output_type": "stream",
     "text": [
      "/tmp/ipykernel_532/2617673278.py:45: FutureWarning: Passing literal html to 'read_html' is deprecated and will be removed in a future version. To read from a literal string, wrap it in a 'StringIO' object.\n",
      "  df = pd.read_html(response.text, attrs={\"id\": \"matchlogs_for\"})[0]\n"
     ]
    },
    {
     "name": "stdout",
     "output_type": "stream",
     "text": [
      "Saved data for Manchester-United (2020-2021) to Manchester-United_2020-2021_match_data.csv\n",
      "Fetching data for Manchester-United (2021-2022)...\n"
     ]
    },
    {
     "name": "stderr",
     "output_type": "stream",
     "text": [
      "/tmp/ipykernel_532/2617673278.py:45: FutureWarning: Passing literal html to 'read_html' is deprecated and will be removed in a future version. To read from a literal string, wrap it in a 'StringIO' object.\n",
      "  df = pd.read_html(response.text, attrs={\"id\": \"matchlogs_for\"})[0]\n"
     ]
    },
    {
     "name": "stdout",
     "output_type": "stream",
     "text": [
      "Saved data for Manchester-United (2021-2022) to Manchester-United_2021-2022_match_data.csv\n",
      "Fetching data for Manchester-United (2022-2023)...\n",
      "Saved data for Manchester-United (2022-2023) to Manchester-United_2022-2023_match_data.csv\n"
     ]
    },
    {
     "name": "stderr",
     "output_type": "stream",
     "text": [
      "/tmp/ipykernel_532/2617673278.py:45: FutureWarning: Passing literal html to 'read_html' is deprecated and will be removed in a future version. To read from a literal string, wrap it in a 'StringIO' object.\n",
      "  df = pd.read_html(response.text, attrs={\"id\": \"matchlogs_for\"})[0]\n"
     ]
    },
    {
     "name": "stdout",
     "output_type": "stream",
     "text": [
      "Fetching data for Crystal-Palace (2018-2019)...\n"
     ]
    },
    {
     "name": "stderr",
     "output_type": "stream",
     "text": [
      "/tmp/ipykernel_532/2617673278.py:45: FutureWarning: Passing literal html to 'read_html' is deprecated and will be removed in a future version. To read from a literal string, wrap it in a 'StringIO' object.\n",
      "  df = pd.read_html(response.text, attrs={\"id\": \"matchlogs_for\"})[0]\n"
     ]
    },
    {
     "name": "stdout",
     "output_type": "stream",
     "text": [
      "Saved data for Crystal-Palace (2018-2019) to Crystal-Palace_2018-2019_match_data.csv\n",
      "Fetching data for Crystal-Palace (2019-2020)...\n"
     ]
    },
    {
     "name": "stderr",
     "output_type": "stream",
     "text": [
      "/tmp/ipykernel_532/2617673278.py:45: FutureWarning: Passing literal html to 'read_html' is deprecated and will be removed in a future version. To read from a literal string, wrap it in a 'StringIO' object.\n",
      "  df = pd.read_html(response.text, attrs={\"id\": \"matchlogs_for\"})[0]\n"
     ]
    },
    {
     "name": "stdout",
     "output_type": "stream",
     "text": [
      "Saved data for Crystal-Palace (2019-2020) to Crystal-Palace_2019-2020_match_data.csv\n",
      "Fetching data for Crystal-Palace (2020-2021)...\n",
      "Saved data for Crystal-Palace (2020-2021) to Crystal-Palace_2020-2021_match_data.csv\n"
     ]
    },
    {
     "name": "stderr",
     "output_type": "stream",
     "text": [
      "/tmp/ipykernel_532/2617673278.py:45: FutureWarning: Passing literal html to 'read_html' is deprecated and will be removed in a future version. To read from a literal string, wrap it in a 'StringIO' object.\n",
      "  df = pd.read_html(response.text, attrs={\"id\": \"matchlogs_for\"})[0]\n"
     ]
    },
    {
     "name": "stdout",
     "output_type": "stream",
     "text": [
      "Fetching data for Crystal-Palace (2021-2022)...\n"
     ]
    },
    {
     "name": "stderr",
     "output_type": "stream",
     "text": [
      "/tmp/ipykernel_532/2617673278.py:45: FutureWarning: Passing literal html to 'read_html' is deprecated and will be removed in a future version. To read from a literal string, wrap it in a 'StringIO' object.\n",
      "  df = pd.read_html(response.text, attrs={\"id\": \"matchlogs_for\"})[0]\n"
     ]
    },
    {
     "name": "stdout",
     "output_type": "stream",
     "text": [
      "Saved data for Crystal-Palace (2021-2022) to Crystal-Palace_2021-2022_match_data.csv\n",
      "Fetching data for Crystal-Palace (2022-2023)...\n",
      "Saved data for Crystal-Palace (2022-2023) to Crystal-Palace_2022-2023_match_data.csv\n"
     ]
    },
    {
     "name": "stderr",
     "output_type": "stream",
     "text": [
      "/tmp/ipykernel_532/2617673278.py:45: FutureWarning: Passing literal html to 'read_html' is deprecated and will be removed in a future version. To read from a literal string, wrap it in a 'StringIO' object.\n",
      "  df = pd.read_html(response.text, attrs={\"id\": \"matchlogs_for\"})[0]\n"
     ]
    },
    {
     "name": "stdout",
     "output_type": "stream",
     "text": [
      "Fetching data for West-Ham-United (2018-2019)...\n"
     ]
    },
    {
     "name": "stderr",
     "output_type": "stream",
     "text": [
      "/tmp/ipykernel_532/2617673278.py:45: FutureWarning: Passing literal html to 'read_html' is deprecated and will be removed in a future version. To read from a literal string, wrap it in a 'StringIO' object.\n",
      "  df = pd.read_html(response.text, attrs={\"id\": \"matchlogs_for\"})[0]\n"
     ]
    },
    {
     "name": "stdout",
     "output_type": "stream",
     "text": [
      "Saved data for West-Ham-United (2018-2019) to West-Ham-United_2018-2019_match_data.csv\n",
      "Fetching data for West-Ham-United (2019-2020)...\n"
     ]
    },
    {
     "name": "stderr",
     "output_type": "stream",
     "text": [
      "/tmp/ipykernel_532/2617673278.py:45: FutureWarning: Passing literal html to 'read_html' is deprecated and will be removed in a future version. To read from a literal string, wrap it in a 'StringIO' object.\n",
      "  df = pd.read_html(response.text, attrs={\"id\": \"matchlogs_for\"})[0]\n"
     ]
    },
    {
     "name": "stdout",
     "output_type": "stream",
     "text": [
      "Saved data for West-Ham-United (2019-2020) to West-Ham-United_2019-2020_match_data.csv\n",
      "Fetching data for West-Ham-United (2020-2021)...\n",
      "Saved data for West-Ham-United (2020-2021) to West-Ham-United_2020-2021_match_data.csv\n"
     ]
    },
    {
     "name": "stderr",
     "output_type": "stream",
     "text": [
      "/tmp/ipykernel_532/2617673278.py:45: FutureWarning: Passing literal html to 'read_html' is deprecated and will be removed in a future version. To read from a literal string, wrap it in a 'StringIO' object.\n",
      "  df = pd.read_html(response.text, attrs={\"id\": \"matchlogs_for\"})[0]\n"
     ]
    },
    {
     "name": "stdout",
     "output_type": "stream",
     "text": [
      "Fetching data for West-Ham-United (2021-2022)...\n"
     ]
    },
    {
     "name": "stderr",
     "output_type": "stream",
     "text": [
      "/tmp/ipykernel_532/2617673278.py:45: FutureWarning: Passing literal html to 'read_html' is deprecated and will be removed in a future version. To read from a literal string, wrap it in a 'StringIO' object.\n",
      "  df = pd.read_html(response.text, attrs={\"id\": \"matchlogs_for\"})[0]\n"
     ]
    },
    {
     "name": "stdout",
     "output_type": "stream",
     "text": [
      "Saved data for West-Ham-United (2021-2022) to West-Ham-United_2021-2022_match_data.csv\n",
      "Fetching data for West-Ham-United (2022-2023)...\n",
      "Saved data for West-Ham-United (2022-2023) to West-Ham-United_2022-2023_match_data.csv\n"
     ]
    },
    {
     "name": "stderr",
     "output_type": "stream",
     "text": [
      "/tmp/ipykernel_532/2617673278.py:45: FutureWarning: Passing literal html to 'read_html' is deprecated and will be removed in a future version. To read from a literal string, wrap it in a 'StringIO' object.\n",
      "  df = pd.read_html(response.text, attrs={\"id\": \"matchlogs_for\"})[0]\n"
     ]
    },
    {
     "name": "stdout",
     "output_type": "stream",
     "text": [
      "Fetching data for Tottenham-Hotspur (2018-2019)...\n"
     ]
    },
    {
     "name": "stderr",
     "output_type": "stream",
     "text": [
      "/tmp/ipykernel_532/2617673278.py:45: FutureWarning: Passing literal html to 'read_html' is deprecated and will be removed in a future version. To read from a literal string, wrap it in a 'StringIO' object.\n",
      "  df = pd.read_html(response.text, attrs={\"id\": \"matchlogs_for\"})[0]\n"
     ]
    },
    {
     "name": "stdout",
     "output_type": "stream",
     "text": [
      "Saved data for Tottenham-Hotspur (2018-2019) to Tottenham-Hotspur_2018-2019_match_data.csv\n",
      "Fetching data for Tottenham-Hotspur (2019-2020)...\n"
     ]
    },
    {
     "name": "stderr",
     "output_type": "stream",
     "text": [
      "/tmp/ipykernel_532/2617673278.py:45: FutureWarning: Passing literal html to 'read_html' is deprecated and will be removed in a future version. To read from a literal string, wrap it in a 'StringIO' object.\n",
      "  df = pd.read_html(response.text, attrs={\"id\": \"matchlogs_for\"})[0]\n"
     ]
    },
    {
     "name": "stdout",
     "output_type": "stream",
     "text": [
      "Saved data for Tottenham-Hotspur (2019-2020) to Tottenham-Hotspur_2019-2020_match_data.csv\n",
      "Fetching data for Tottenham-Hotspur (2020-2021)...\n"
     ]
    },
    {
     "name": "stderr",
     "output_type": "stream",
     "text": [
      "/tmp/ipykernel_532/2617673278.py:45: FutureWarning: Passing literal html to 'read_html' is deprecated and will be removed in a future version. To read from a literal string, wrap it in a 'StringIO' object.\n",
      "  df = pd.read_html(response.text, attrs={\"id\": \"matchlogs_for\"})[0]\n"
     ]
    },
    {
     "name": "stdout",
     "output_type": "stream",
     "text": [
      "Saved data for Tottenham-Hotspur (2020-2021) to Tottenham-Hotspur_2020-2021_match_data.csv\n",
      "Fetching data for Tottenham-Hotspur (2021-2022)...\n"
     ]
    },
    {
     "name": "stderr",
     "output_type": "stream",
     "text": [
      "/tmp/ipykernel_532/2617673278.py:45: FutureWarning: Passing literal html to 'read_html' is deprecated and will be removed in a future version. To read from a literal string, wrap it in a 'StringIO' object.\n",
      "  df = pd.read_html(response.text, attrs={\"id\": \"matchlogs_for\"})[0]\n"
     ]
    },
    {
     "name": "stdout",
     "output_type": "stream",
     "text": [
      "Saved data for Tottenham-Hotspur (2021-2022) to Tottenham-Hotspur_2021-2022_match_data.csv\n",
      "Fetching data for Tottenham-Hotspur (2022-2023)...\n"
     ]
    },
    {
     "name": "stderr",
     "output_type": "stream",
     "text": [
      "/tmp/ipykernel_532/2617673278.py:45: FutureWarning: Passing literal html to 'read_html' is deprecated and will be removed in a future version. To read from a literal string, wrap it in a 'StringIO' object.\n",
      "  df = pd.read_html(response.text, attrs={\"id\": \"matchlogs_for\"})[0]\n"
     ]
    },
    {
     "name": "stdout",
     "output_type": "stream",
     "text": [
      "Saved data for Tottenham-Hotspur (2022-2023) to Tottenham-Hotspur_2022-2023_match_data.csv\n",
      "Fetching data for Everton (2018-2019)...\n"
     ]
    },
    {
     "name": "stderr",
     "output_type": "stream",
     "text": [
      "/tmp/ipykernel_532/2617673278.py:45: FutureWarning: Passing literal html to 'read_html' is deprecated and will be removed in a future version. To read from a literal string, wrap it in a 'StringIO' object.\n",
      "  df = pd.read_html(response.text, attrs={\"id\": \"matchlogs_for\"})[0]\n"
     ]
    },
    {
     "name": "stdout",
     "output_type": "stream",
     "text": [
      "Saved data for Everton (2018-2019) to Everton_2018-2019_match_data.csv\n",
      "Fetching data for Everton (2019-2020)...\n"
     ]
    },
    {
     "name": "stderr",
     "output_type": "stream",
     "text": [
      "/tmp/ipykernel_532/2617673278.py:45: FutureWarning: Passing literal html to 'read_html' is deprecated and will be removed in a future version. To read from a literal string, wrap it in a 'StringIO' object.\n",
      "  df = pd.read_html(response.text, attrs={\"id\": \"matchlogs_for\"})[0]\n"
     ]
    },
    {
     "name": "stdout",
     "output_type": "stream",
     "text": [
      "Saved data for Everton (2019-2020) to Everton_2019-2020_match_data.csv\n",
      "Fetching data for Everton (2020-2021)...\n",
      "Saved data for Everton (2020-2021) to Everton_2020-2021_match_data.csv\n"
     ]
    },
    {
     "name": "stderr",
     "output_type": "stream",
     "text": [
      "/tmp/ipykernel_532/2617673278.py:45: FutureWarning: Passing literal html to 'read_html' is deprecated and will be removed in a future version. To read from a literal string, wrap it in a 'StringIO' object.\n",
      "  df = pd.read_html(response.text, attrs={\"id\": \"matchlogs_for\"})[0]\n"
     ]
    },
    {
     "name": "stdout",
     "output_type": "stream",
     "text": [
      "Fetching data for Everton (2021-2022)...\n"
     ]
    },
    {
     "name": "stderr",
     "output_type": "stream",
     "text": [
      "/tmp/ipykernel_532/2617673278.py:45: FutureWarning: Passing literal html to 'read_html' is deprecated and will be removed in a future version. To read from a literal string, wrap it in a 'StringIO' object.\n",
      "  df = pd.read_html(response.text, attrs={\"id\": \"matchlogs_for\"})[0]\n"
     ]
    },
    {
     "name": "stdout",
     "output_type": "stream",
     "text": [
      "Saved data for Everton (2021-2022) to Everton_2021-2022_match_data.csv\n",
      "Fetching data for Everton (2022-2023)...\n",
      "Saved data for Everton (2022-2023) to Everton_2022-2023_match_data.csv\n"
     ]
    },
    {
     "name": "stderr",
     "output_type": "stream",
     "text": [
      "/tmp/ipykernel_532/2617673278.py:45: FutureWarning: Passing literal html to 'read_html' is deprecated and will be removed in a future version. To read from a literal string, wrap it in a 'StringIO' object.\n",
      "  df = pd.read_html(response.text, attrs={\"id\": \"matchlogs_for\"})[0]\n"
     ]
    },
    {
     "name": "stdout",
     "output_type": "stream",
     "text": [
      "Fetching data for Leicester-City (2018-2019)...\n"
     ]
    },
    {
     "name": "stderr",
     "output_type": "stream",
     "text": [
      "/tmp/ipykernel_532/2617673278.py:45: FutureWarning: Passing literal html to 'read_html' is deprecated and will be removed in a future version. To read from a literal string, wrap it in a 'StringIO' object.\n",
      "  df = pd.read_html(response.text, attrs={\"id\": \"matchlogs_for\"})[0]\n"
     ]
    },
    {
     "name": "stdout",
     "output_type": "stream",
     "text": [
      "Saved data for Leicester-City (2018-2019) to Leicester-City_2018-2019_match_data.csv\n",
      "Fetching data for Leicester-City (2019-2020)...\n"
     ]
    },
    {
     "name": "stderr",
     "output_type": "stream",
     "text": [
      "/tmp/ipykernel_532/2617673278.py:45: FutureWarning: Passing literal html to 'read_html' is deprecated and will be removed in a future version. To read from a literal string, wrap it in a 'StringIO' object.\n",
      "  df = pd.read_html(response.text, attrs={\"id\": \"matchlogs_for\"})[0]\n"
     ]
    },
    {
     "name": "stdout",
     "output_type": "stream",
     "text": [
      "Saved data for Leicester-City (2019-2020) to Leicester-City_2019-2020_match_data.csv\n",
      "Fetching data for Leicester-City (2020-2021)...\n",
      "Saved data for Leicester-City (2020-2021) to Leicester-City_2020-2021_match_data.csv\n"
     ]
    },
    {
     "name": "stderr",
     "output_type": "stream",
     "text": [
      "/tmp/ipykernel_532/2617673278.py:45: FutureWarning: Passing literal html to 'read_html' is deprecated and will be removed in a future version. To read from a literal string, wrap it in a 'StringIO' object.\n",
      "  df = pd.read_html(response.text, attrs={\"id\": \"matchlogs_for\"})[0]\n"
     ]
    },
    {
     "name": "stdout",
     "output_type": "stream",
     "text": [
      "Fetching data for Leicester-City (2021-2022)...\n"
     ]
    },
    {
     "name": "stderr",
     "output_type": "stream",
     "text": [
      "/tmp/ipykernel_532/2617673278.py:45: FutureWarning: Passing literal html to 'read_html' is deprecated and will be removed in a future version. To read from a literal string, wrap it in a 'StringIO' object.\n",
      "  df = pd.read_html(response.text, attrs={\"id\": \"matchlogs_for\"})[0]\n"
     ]
    },
    {
     "name": "stdout",
     "output_type": "stream",
     "text": [
      "Saved data for Leicester-City (2021-2022) to Leicester-City_2021-2022_match_data.csv\n",
      "Fetching data for Leicester-City (2022-2023)...\n",
      "Saved data for Leicester-City (2022-2023) to Leicester-City_2022-2023_match_data.csv\n"
     ]
    },
    {
     "name": "stderr",
     "output_type": "stream",
     "text": [
      "/tmp/ipykernel_532/2617673278.py:45: FutureWarning: Passing literal html to 'read_html' is deprecated and will be removed in a future version. To read from a literal string, wrap it in a 'StringIO' object.\n",
      "  df = pd.read_html(response.text, attrs={\"id\": \"matchlogs_for\"})[0]\n"
     ]
    },
    {
     "name": "stdout",
     "output_type": "stream",
     "text": [
      "Fetching data for Wolverhampton-Wanderers (2018-2019)...\n"
     ]
    },
    {
     "name": "stderr",
     "output_type": "stream",
     "text": [
      "/tmp/ipykernel_532/2617673278.py:45: FutureWarning: Passing literal html to 'read_html' is deprecated and will be removed in a future version. To read from a literal string, wrap it in a 'StringIO' object.\n",
      "  df = pd.read_html(response.text, attrs={\"id\": \"matchlogs_for\"})[0]\n"
     ]
    },
    {
     "name": "stdout",
     "output_type": "stream",
     "text": [
      "Saved data for Wolverhampton-Wanderers (2018-2019) to Wolverhampton-Wanderers_2018-2019_match_data.csv\n",
      "Fetching data for Wolverhampton-Wanderers (2019-2020)...\n"
     ]
    },
    {
     "name": "stderr",
     "output_type": "stream",
     "text": [
      "/tmp/ipykernel_532/2617673278.py:45: FutureWarning: Passing literal html to 'read_html' is deprecated and will be removed in a future version. To read from a literal string, wrap it in a 'StringIO' object.\n",
      "  df = pd.read_html(response.text, attrs={\"id\": \"matchlogs_for\"})[0]\n"
     ]
    },
    {
     "name": "stdout",
     "output_type": "stream",
     "text": [
      "Saved data for Wolverhampton-Wanderers (2019-2020) to Wolverhampton-Wanderers_2019-2020_match_data.csv\n",
      "Fetching data for Wolverhampton-Wanderers (2020-2021)...\n"
     ]
    },
    {
     "name": "stderr",
     "output_type": "stream",
     "text": [
      "/tmp/ipykernel_532/2617673278.py:45: FutureWarning: Passing literal html to 'read_html' is deprecated and will be removed in a future version. To read from a literal string, wrap it in a 'StringIO' object.\n",
      "  df = pd.read_html(response.text, attrs={\"id\": \"matchlogs_for\"})[0]\n"
     ]
    },
    {
     "name": "stdout",
     "output_type": "stream",
     "text": [
      "Saved data for Wolverhampton-Wanderers (2020-2021) to Wolverhampton-Wanderers_2020-2021_match_data.csv\n",
      "Fetching data for Wolverhampton-Wanderers (2021-2022)...\n"
     ]
    },
    {
     "name": "stderr",
     "output_type": "stream",
     "text": [
      "/tmp/ipykernel_532/2617673278.py:45: FutureWarning: Passing literal html to 'read_html' is deprecated and will be removed in a future version. To read from a literal string, wrap it in a 'StringIO' object.\n",
      "  df = pd.read_html(response.text, attrs={\"id\": \"matchlogs_for\"})[0]\n"
     ]
    },
    {
     "name": "stdout",
     "output_type": "stream",
     "text": [
      "Saved data for Wolverhampton-Wanderers (2021-2022) to Wolverhampton-Wanderers_2021-2022_match_data.csv\n",
      "Fetching data for Wolverhampton-Wanderers (2022-2023)...\n",
      "Saved data for Wolverhampton-Wanderers (2022-2023) to Wolverhampton-Wanderers_2022-2023_match_data.csv\n"
     ]
    },
    {
     "name": "stderr",
     "output_type": "stream",
     "text": [
      "/tmp/ipykernel_532/2617673278.py:45: FutureWarning: Passing literal html to 'read_html' is deprecated and will be removed in a future version. To read from a literal string, wrap it in a 'StringIO' object.\n",
      "  df = pd.read_html(response.text, attrs={\"id\": \"matchlogs_for\"})[0]\n"
     ]
    },
    {
     "name": "stdout",
     "output_type": "stream",
     "text": [
      "Fetching data for Ipswich-Town (2018-2019)...\n"
     ]
    },
    {
     "name": "stderr",
     "output_type": "stream",
     "text": [
      "/tmp/ipykernel_532/2617673278.py:45: FutureWarning: Passing literal html to 'read_html' is deprecated and will be removed in a future version. To read from a literal string, wrap it in a 'StringIO' object.\n",
      "  df = pd.read_html(response.text, attrs={\"id\": \"matchlogs_for\"})[0]\n"
     ]
    },
    {
     "name": "stdout",
     "output_type": "stream",
     "text": [
      "Saved data for Ipswich-Town (2018-2019) to Ipswich-Town_2018-2019_match_data.csv\n",
      "Fetching data for Ipswich-Town (2019-2020)...\n",
      "Saved data for Ipswich-Town (2019-2020) to Ipswich-Town_2019-2020_match_data.csv\n"
     ]
    },
    {
     "name": "stderr",
     "output_type": "stream",
     "text": [
      "/tmp/ipykernel_532/2617673278.py:45: FutureWarning: Passing literal html to 'read_html' is deprecated and will be removed in a future version. To read from a literal string, wrap it in a 'StringIO' object.\n",
      "  df = pd.read_html(response.text, attrs={\"id\": \"matchlogs_for\"})[0]\n"
     ]
    },
    {
     "name": "stdout",
     "output_type": "stream",
     "text": [
      "Fetching data for Ipswich-Town (2020-2021)...\n"
     ]
    },
    {
     "name": "stderr",
     "output_type": "stream",
     "text": [
      "/tmp/ipykernel_532/2617673278.py:45: FutureWarning: Passing literal html to 'read_html' is deprecated and will be removed in a future version. To read from a literal string, wrap it in a 'StringIO' object.\n",
      "  df = pd.read_html(response.text, attrs={\"id\": \"matchlogs_for\"})[0]\n"
     ]
    },
    {
     "name": "stdout",
     "output_type": "stream",
     "text": [
      "Saved data for Ipswich-Town (2020-2021) to Ipswich-Town_2020-2021_match_data.csv\n",
      "Fetching data for Ipswich-Town (2021-2022)...\n"
     ]
    },
    {
     "name": "stderr",
     "output_type": "stream",
     "text": [
      "/tmp/ipykernel_532/2617673278.py:45: FutureWarning: Passing literal html to 'read_html' is deprecated and will be removed in a future version. To read from a literal string, wrap it in a 'StringIO' object.\n",
      "  df = pd.read_html(response.text, attrs={\"id\": \"matchlogs_for\"})[0]\n"
     ]
    },
    {
     "name": "stdout",
     "output_type": "stream",
     "text": [
      "Saved data for Ipswich-Town (2021-2022) to Ipswich-Town_2021-2022_match_data.csv\n",
      "Fetching data for Ipswich-Town (2022-2023)...\n"
     ]
    },
    {
     "name": "stderr",
     "output_type": "stream",
     "text": [
      "/tmp/ipykernel_532/2617673278.py:45: FutureWarning: Passing literal html to 'read_html' is deprecated and will be removed in a future version. To read from a literal string, wrap it in a 'StringIO' object.\n",
      "  df = pd.read_html(response.text, attrs={\"id\": \"matchlogs_for\"})[0]\n"
     ]
    },
    {
     "name": "stdout",
     "output_type": "stream",
     "text": [
      "Saved data for Ipswich-Town (2022-2023) to Ipswich-Town_2022-2023_match_data.csv\n",
      "Fetching data for Southampton (2018-2019)...\n"
     ]
    },
    {
     "name": "stderr",
     "output_type": "stream",
     "text": [
      "/tmp/ipykernel_532/2617673278.py:45: FutureWarning: Passing literal html to 'read_html' is deprecated and will be removed in a future version. To read from a literal string, wrap it in a 'StringIO' object.\n",
      "  df = pd.read_html(response.text, attrs={\"id\": \"matchlogs_for\"})[0]\n"
     ]
    },
    {
     "name": "stdout",
     "output_type": "stream",
     "text": [
      "Saved data for Southampton (2018-2019) to Southampton_2018-2019_match_data.csv\n",
      "Fetching data for Southampton (2019-2020)...\n"
     ]
    },
    {
     "name": "stderr",
     "output_type": "stream",
     "text": [
      "/tmp/ipykernel_532/2617673278.py:45: FutureWarning: Passing literal html to 'read_html' is deprecated and will be removed in a future version. To read from a literal string, wrap it in a 'StringIO' object.\n",
      "  df = pd.read_html(response.text, attrs={\"id\": \"matchlogs_for\"})[0]\n"
     ]
    },
    {
     "name": "stdout",
     "output_type": "stream",
     "text": [
      "Saved data for Southampton (2019-2020) to Southampton_2019-2020_match_data.csv\n",
      "Fetching data for Southampton (2020-2021)...\n"
     ]
    },
    {
     "name": "stderr",
     "output_type": "stream",
     "text": [
      "/tmp/ipykernel_532/2617673278.py:45: FutureWarning: Passing literal html to 'read_html' is deprecated and will be removed in a future version. To read from a literal string, wrap it in a 'StringIO' object.\n",
      "  df = pd.read_html(response.text, attrs={\"id\": \"matchlogs_for\"})[0]\n"
     ]
    },
    {
     "name": "stdout",
     "output_type": "stream",
     "text": [
      "Saved data for Southampton (2020-2021) to Southampton_2020-2021_match_data.csv\n",
      "Fetching data for Southampton (2021-2022)...\n"
     ]
    },
    {
     "name": "stderr",
     "output_type": "stream",
     "text": [
      "/tmp/ipykernel_532/2617673278.py:45: FutureWarning: Passing literal html to 'read_html' is deprecated and will be removed in a future version. To read from a literal string, wrap it in a 'StringIO' object.\n",
      "  df = pd.read_html(response.text, attrs={\"id\": \"matchlogs_for\"})[0]\n"
     ]
    },
    {
     "name": "stdout",
     "output_type": "stream",
     "text": [
      "Saved data for Southampton (2021-2022) to Southampton_2021-2022_match_data.csv\n",
      "Fetching data for Southampton (2022-2023)...\n"
     ]
    },
    {
     "name": "stderr",
     "output_type": "stream",
     "text": [
      "/tmp/ipykernel_532/2617673278.py:45: FutureWarning: Passing literal html to 'read_html' is deprecated and will be removed in a future version. To read from a literal string, wrap it in a 'StringIO' object.\n",
      "  df = pd.read_html(response.text, attrs={\"id\": \"matchlogs_for\"})[0]\n"
     ]
    },
    {
     "name": "stdout",
     "output_type": "stream",
     "text": [
      "Saved data for Southampton (2022-2023) to Southampton_2022-2023_match_data.csv\n",
      "Fetching data for Luton-Town (2018-2019)...\n"
     ]
    },
    {
     "name": "stderr",
     "output_type": "stream",
     "text": [
      "/tmp/ipykernel_532/2617673278.py:45: FutureWarning: Passing literal html to 'read_html' is deprecated and will be removed in a future version. To read from a literal string, wrap it in a 'StringIO' object.\n",
      "  df = pd.read_html(response.text, attrs={\"id\": \"matchlogs_for\"})[0]\n"
     ]
    },
    {
     "name": "stdout",
     "output_type": "stream",
     "text": [
      "Saved data for Luton-Town (2018-2019) to Luton-Town_2018-2019_match_data.csv\n",
      "Fetching data for Luton-Town (2019-2020)...\n"
     ]
    },
    {
     "name": "stderr",
     "output_type": "stream",
     "text": [
      "/tmp/ipykernel_532/2617673278.py:45: FutureWarning: Passing literal html to 'read_html' is deprecated and will be removed in a future version. To read from a literal string, wrap it in a 'StringIO' object.\n",
      "  df = pd.read_html(response.text, attrs={\"id\": \"matchlogs_for\"})[0]\n"
     ]
    },
    {
     "name": "stdout",
     "output_type": "stream",
     "text": [
      "Saved data for Luton-Town (2019-2020) to Luton-Town_2019-2020_match_data.csv\n",
      "Fetching data for Luton-Town (2020-2021)...\n"
     ]
    },
    {
     "name": "stderr",
     "output_type": "stream",
     "text": [
      "/tmp/ipykernel_532/2617673278.py:45: FutureWarning: Passing literal html to 'read_html' is deprecated and will be removed in a future version. To read from a literal string, wrap it in a 'StringIO' object.\n",
      "  df = pd.read_html(response.text, attrs={\"id\": \"matchlogs_for\"})[0]\n"
     ]
    },
    {
     "name": "stdout",
     "output_type": "stream",
     "text": [
      "Saved data for Luton-Town (2020-2021) to Luton-Town_2020-2021_match_data.csv\n",
      "Fetching data for Luton-Town (2021-2022)...\n"
     ]
    },
    {
     "name": "stderr",
     "output_type": "stream",
     "text": [
      "/tmp/ipykernel_532/2617673278.py:45: FutureWarning: Passing literal html to 'read_html' is deprecated and will be removed in a future version. To read from a literal string, wrap it in a 'StringIO' object.\n",
      "  df = pd.read_html(response.text, attrs={\"id\": \"matchlogs_for\"})[0]\n"
     ]
    },
    {
     "name": "stdout",
     "output_type": "stream",
     "text": [
      "Saved data for Luton-Town (2021-2022) to Luton-Town_2021-2022_match_data.csv\n",
      "Fetching data for Luton-Town (2022-2023)...\n",
      "Saved data for Luton-Town (2022-2023) to Luton-Town_2022-2023_match_data.csv\n"
     ]
    },
    {
     "name": "stderr",
     "output_type": "stream",
     "text": [
      "/tmp/ipykernel_532/2617673278.py:45: FutureWarning: Passing literal html to 'read_html' is deprecated and will be removed in a future version. To read from a literal string, wrap it in a 'StringIO' object.\n",
      "  df = pd.read_html(response.text, attrs={\"id\": \"matchlogs_for\"})[0]\n"
     ]
    },
    {
     "name": "stdout",
     "output_type": "stream",
     "text": [
      "Fetching data for Sheffield-United (2018-2019)...\n"
     ]
    },
    {
     "name": "stderr",
     "output_type": "stream",
     "text": [
      "/tmp/ipykernel_532/2617673278.py:45: FutureWarning: Passing literal html to 'read_html' is deprecated and will be removed in a future version. To read from a literal string, wrap it in a 'StringIO' object.\n",
      "  df = pd.read_html(response.text, attrs={\"id\": \"matchlogs_for\"})[0]\n"
     ]
    },
    {
     "name": "stdout",
     "output_type": "stream",
     "text": [
      "Saved data for Sheffield-United (2018-2019) to Sheffield-United_2018-2019_match_data.csv\n",
      "Fetching data for Sheffield-United (2019-2020)...\n"
     ]
    },
    {
     "name": "stderr",
     "output_type": "stream",
     "text": [
      "/tmp/ipykernel_532/2617673278.py:45: FutureWarning: Passing literal html to 'read_html' is deprecated and will be removed in a future version. To read from a literal string, wrap it in a 'StringIO' object.\n",
      "  df = pd.read_html(response.text, attrs={\"id\": \"matchlogs_for\"})[0]\n"
     ]
    },
    {
     "name": "stdout",
     "output_type": "stream",
     "text": [
      "Saved data for Sheffield-United (2019-2020) to Sheffield-United_2019-2020_match_data.csv\n",
      "Fetching data for Sheffield-United (2020-2021)...\n",
      "Saved data for Sheffield-United (2020-2021) to Sheffield-United_2020-2021_match_data.csv\n"
     ]
    },
    {
     "name": "stderr",
     "output_type": "stream",
     "text": [
      "/tmp/ipykernel_532/2617673278.py:45: FutureWarning: Passing literal html to 'read_html' is deprecated and will be removed in a future version. To read from a literal string, wrap it in a 'StringIO' object.\n",
      "  df = pd.read_html(response.text, attrs={\"id\": \"matchlogs_for\"})[0]\n"
     ]
    },
    {
     "name": "stdout",
     "output_type": "stream",
     "text": [
      "Fetching data for Sheffield-United (2021-2022)...\n"
     ]
    },
    {
     "name": "stderr",
     "output_type": "stream",
     "text": [
      "/tmp/ipykernel_532/2617673278.py:45: FutureWarning: Passing literal html to 'read_html' is deprecated and will be removed in a future version. To read from a literal string, wrap it in a 'StringIO' object.\n",
      "  df = pd.read_html(response.text, attrs={\"id\": \"matchlogs_for\"})[0]\n"
     ]
    },
    {
     "name": "stdout",
     "output_type": "stream",
     "text": [
      "Saved data for Sheffield-United (2021-2022) to Sheffield-United_2021-2022_match_data.csv\n",
      "Fetching data for Sheffield-United (2022-2023)...\n"
     ]
    },
    {
     "name": "stderr",
     "output_type": "stream",
     "text": [
      "/tmp/ipykernel_532/2617673278.py:45: FutureWarning: Passing literal html to 'read_html' is deprecated and will be removed in a future version. To read from a literal string, wrap it in a 'StringIO' object.\n",
      "  df = pd.read_html(response.text, attrs={\"id\": \"matchlogs_for\"})[0]\n"
     ]
    },
    {
     "name": "stdout",
     "output_type": "stream",
     "text": [
      "Saved data for Sheffield-United (2022-2023) to Sheffield-United_2022-2023_match_data.csv\n",
      "Fetching data for Leeds-United (2018-2019)...\n"
     ]
    },
    {
     "name": "stderr",
     "output_type": "stream",
     "text": [
      "/tmp/ipykernel_532/2617673278.py:45: FutureWarning: Passing literal html to 'read_html' is deprecated and will be removed in a future version. To read from a literal string, wrap it in a 'StringIO' object.\n",
      "  df = pd.read_html(response.text, attrs={\"id\": \"matchlogs_for\"})[0]\n"
     ]
    },
    {
     "name": "stdout",
     "output_type": "stream",
     "text": [
      "Saved data for Leeds-United (2018-2019) to Leeds-United_2018-2019_match_data.csv\n",
      "Fetching data for Leeds-United (2019-2020)...\n"
     ]
    },
    {
     "name": "stderr",
     "output_type": "stream",
     "text": [
      "/tmp/ipykernel_532/2617673278.py:45: FutureWarning: Passing literal html to 'read_html' is deprecated and will be removed in a future version. To read from a literal string, wrap it in a 'StringIO' object.\n",
      "  df = pd.read_html(response.text, attrs={\"id\": \"matchlogs_for\"})[0]\n"
     ]
    },
    {
     "name": "stdout",
     "output_type": "stream",
     "text": [
      "Saved data for Leeds-United (2019-2020) to Leeds-United_2019-2020_match_data.csv\n",
      "Fetching data for Leeds-United (2020-2021)...\n"
     ]
    },
    {
     "name": "stderr",
     "output_type": "stream",
     "text": [
      "/tmp/ipykernel_532/2617673278.py:45: FutureWarning: Passing literal html to 'read_html' is deprecated and will be removed in a future version. To read from a literal string, wrap it in a 'StringIO' object.\n",
      "  df = pd.read_html(response.text, attrs={\"id\": \"matchlogs_for\"})[0]\n"
     ]
    },
    {
     "name": "stdout",
     "output_type": "stream",
     "text": [
      "Saved data for Leeds-United (2020-2021) to Leeds-United_2020-2021_match_data.csv\n",
      "Fetching data for Leeds-United (2021-2022)...\n"
     ]
    },
    {
     "name": "stderr",
     "output_type": "stream",
     "text": [
      "/tmp/ipykernel_532/2617673278.py:45: FutureWarning: Passing literal html to 'read_html' is deprecated and will be removed in a future version. To read from a literal string, wrap it in a 'StringIO' object.\n",
      "  df = pd.read_html(response.text, attrs={\"id\": \"matchlogs_for\"})[0]\n"
     ]
    },
    {
     "name": "stdout",
     "output_type": "stream",
     "text": [
      "Saved data for Leeds-United (2021-2022) to Leeds-United_2021-2022_match_data.csv\n",
      "Fetching data for Leeds-United (2022-2023)...\n",
      "Saved data for Leeds-United (2022-2023) to Leeds-United_2022-2023_match_data.csv\n"
     ]
    },
    {
     "name": "stderr",
     "output_type": "stream",
     "text": [
      "/tmp/ipykernel_532/2617673278.py:45: FutureWarning: Passing literal html to 'read_html' is deprecated and will be removed in a future version. To read from a literal string, wrap it in a 'StringIO' object.\n",
      "  df = pd.read_html(response.text, attrs={\"id\": \"matchlogs_for\"})[0]\n"
     ]
    },
    {
     "name": "stdout",
     "output_type": "stream",
     "text": [
      "Fetching data for Burnley (2018-2019)...\n"
     ]
    },
    {
     "name": "stderr",
     "output_type": "stream",
     "text": [
      "/tmp/ipykernel_532/2617673278.py:45: FutureWarning: Passing literal html to 'read_html' is deprecated and will be removed in a future version. To read from a literal string, wrap it in a 'StringIO' object.\n",
      "  df = pd.read_html(response.text, attrs={\"id\": \"matchlogs_for\"})[0]\n"
     ]
    },
    {
     "name": "stdout",
     "output_type": "stream",
     "text": [
      "Saved data for Burnley (2018-2019) to Burnley_2018-2019_match_data.csv\n",
      "Fetching data for Burnley (2019-2020)...\n"
     ]
    },
    {
     "name": "stderr",
     "output_type": "stream",
     "text": [
      "/tmp/ipykernel_532/2617673278.py:45: FutureWarning: Passing literal html to 'read_html' is deprecated and will be removed in a future version. To read from a literal string, wrap it in a 'StringIO' object.\n",
      "  df = pd.read_html(response.text, attrs={\"id\": \"matchlogs_for\"})[0]\n"
     ]
    },
    {
     "name": "stdout",
     "output_type": "stream",
     "text": [
      "Saved data for Burnley (2019-2020) to Burnley_2019-2020_match_data.csv\n",
      "Fetching data for Burnley (2020-2021)...\n"
     ]
    },
    {
     "name": "stderr",
     "output_type": "stream",
     "text": [
      "/tmp/ipykernel_532/2617673278.py:45: FutureWarning: Passing literal html to 'read_html' is deprecated and will be removed in a future version. To read from a literal string, wrap it in a 'StringIO' object.\n",
      "  df = pd.read_html(response.text, attrs={\"id\": \"matchlogs_for\"})[0]\n"
     ]
    },
    {
     "name": "stdout",
     "output_type": "stream",
     "text": [
      "Saved data for Burnley (2020-2021) to Burnley_2020-2021_match_data.csv\n",
      "Fetching data for Burnley (2021-2022)...\n",
      "Saved data for Burnley (2021-2022) to Burnley_2021-2022_match_data.csv\n"
     ]
    },
    {
     "name": "stderr",
     "output_type": "stream",
     "text": [
      "/tmp/ipykernel_532/2617673278.py:45: FutureWarning: Passing literal html to 'read_html' is deprecated and will be removed in a future version. To read from a literal string, wrap it in a 'StringIO' object.\n",
      "  df = pd.read_html(response.text, attrs={\"id\": \"matchlogs_for\"})[0]\n"
     ]
    },
    {
     "name": "stdout",
     "output_type": "stream",
     "text": [
      "Fetching data for Burnley (2022-2023)...\n"
     ]
    },
    {
     "name": "stderr",
     "output_type": "stream",
     "text": [
      "/tmp/ipykernel_532/2617673278.py:45: FutureWarning: Passing literal html to 'read_html' is deprecated and will be removed in a future version. To read from a literal string, wrap it in a 'StringIO' object.\n",
      "  df = pd.read_html(response.text, attrs={\"id\": \"matchlogs_for\"})[0]\n"
     ]
    },
    {
     "name": "stdout",
     "output_type": "stream",
     "text": [
      "Saved data for Burnley (2022-2023) to Burnley_2022-2023_match_data.csv\n",
      "Fetching data for Watford (2018-2019)...\n"
     ]
    },
    {
     "name": "stderr",
     "output_type": "stream",
     "text": [
      "/tmp/ipykernel_532/2617673278.py:45: FutureWarning: Passing literal html to 'read_html' is deprecated and will be removed in a future version. To read from a literal string, wrap it in a 'StringIO' object.\n",
      "  df = pd.read_html(response.text, attrs={\"id\": \"matchlogs_for\"})[0]\n"
     ]
    },
    {
     "name": "stdout",
     "output_type": "stream",
     "text": [
      "Saved data for Watford (2018-2019) to Watford_2018-2019_match_data.csv\n",
      "Fetching data for Watford (2019-2020)...\n"
     ]
    },
    {
     "name": "stderr",
     "output_type": "stream",
     "text": [
      "/tmp/ipykernel_532/2617673278.py:45: FutureWarning: Passing literal html to 'read_html' is deprecated and will be removed in a future version. To read from a literal string, wrap it in a 'StringIO' object.\n",
      "  df = pd.read_html(response.text, attrs={\"id\": \"matchlogs_for\"})[0]\n"
     ]
    },
    {
     "name": "stdout",
     "output_type": "stream",
     "text": [
      "Saved data for Watford (2019-2020) to Watford_2019-2020_match_data.csv\n",
      "Fetching data for Watford (2020-2021)...\n"
     ]
    },
    {
     "name": "stderr",
     "output_type": "stream",
     "text": [
      "/tmp/ipykernel_532/2617673278.py:45: FutureWarning: Passing literal html to 'read_html' is deprecated and will be removed in a future version. To read from a literal string, wrap it in a 'StringIO' object.\n",
      "  df = pd.read_html(response.text, attrs={\"id\": \"matchlogs_for\"})[0]\n"
     ]
    },
    {
     "name": "stdout",
     "output_type": "stream",
     "text": [
      "Saved data for Watford (2020-2021) to Watford_2020-2021_match_data.csv\n",
      "Fetching data for Watford (2021-2022)...\n"
     ]
    },
    {
     "name": "stderr",
     "output_type": "stream",
     "text": [
      "/tmp/ipykernel_532/2617673278.py:45: FutureWarning: Passing literal html to 'read_html' is deprecated and will be removed in a future version. To read from a literal string, wrap it in a 'StringIO' object.\n",
      "  df = pd.read_html(response.text, attrs={\"id\": \"matchlogs_for\"})[0]\n"
     ]
    },
    {
     "name": "stdout",
     "output_type": "stream",
     "text": [
      "Saved data for Watford (2021-2022) to Watford_2021-2022_match_data.csv\n",
      "Fetching data for Watford (2022-2023)...\n"
     ]
    },
    {
     "name": "stderr",
     "output_type": "stream",
     "text": [
      "/tmp/ipykernel_532/2617673278.py:45: FutureWarning: Passing literal html to 'read_html' is deprecated and will be removed in a future version. To read from a literal string, wrap it in a 'StringIO' object.\n",
      "  df = pd.read_html(response.text, attrs={\"id\": \"matchlogs_for\"})[0]\n"
     ]
    },
    {
     "name": "stdout",
     "output_type": "stream",
     "text": [
      "Saved data for Watford (2022-2023) to Watford_2022-2023_match_data.csv\n",
      "Fetching data for Norwich-City (2018-2019)...\n"
     ]
    },
    {
     "name": "stderr",
     "output_type": "stream",
     "text": [
      "/tmp/ipykernel_532/2617673278.py:45: FutureWarning: Passing literal html to 'read_html' is deprecated and will be removed in a future version. To read from a literal string, wrap it in a 'StringIO' object.\n",
      "  df = pd.read_html(response.text, attrs={\"id\": \"matchlogs_for\"})[0]\n"
     ]
    },
    {
     "name": "stdout",
     "output_type": "stream",
     "text": [
      "Saved data for Norwich-City (2018-2019) to Norwich-City_2018-2019_match_data.csv\n",
      "Fetching data for Norwich-City (2019-2020)...\n"
     ]
    },
    {
     "name": "stderr",
     "output_type": "stream",
     "text": [
      "/tmp/ipykernel_532/2617673278.py:45: FutureWarning: Passing literal html to 'read_html' is deprecated and will be removed in a future version. To read from a literal string, wrap it in a 'StringIO' object.\n",
      "  df = pd.read_html(response.text, attrs={\"id\": \"matchlogs_for\"})[0]\n"
     ]
    },
    {
     "name": "stdout",
     "output_type": "stream",
     "text": [
      "Saved data for Norwich-City (2019-2020) to Norwich-City_2019-2020_match_data.csv\n",
      "Fetching data for Norwich-City (2020-2021)...\n"
     ]
    },
    {
     "name": "stderr",
     "output_type": "stream",
     "text": [
      "/tmp/ipykernel_532/2617673278.py:45: FutureWarning: Passing literal html to 'read_html' is deprecated and will be removed in a future version. To read from a literal string, wrap it in a 'StringIO' object.\n",
      "  df = pd.read_html(response.text, attrs={\"id\": \"matchlogs_for\"})[0]\n"
     ]
    },
    {
     "name": "stdout",
     "output_type": "stream",
     "text": [
      "Saved data for Norwich-City (2020-2021) to Norwich-City_2020-2021_match_data.csv\n",
      "Fetching data for Norwich-City (2021-2022)...\n"
     ]
    },
    {
     "name": "stderr",
     "output_type": "stream",
     "text": [
      "/tmp/ipykernel_532/2617673278.py:45: FutureWarning: Passing literal html to 'read_html' is deprecated and will be removed in a future version. To read from a literal string, wrap it in a 'StringIO' object.\n",
      "  df = pd.read_html(response.text, attrs={\"id\": \"matchlogs_for\"})[0]\n"
     ]
    },
    {
     "name": "stdout",
     "output_type": "stream",
     "text": [
      "Saved data for Norwich-City (2021-2022) to Norwich-City_2021-2022_match_data.csv\n",
      "Fetching data for Norwich-City (2022-2023)...\n"
     ]
    },
    {
     "name": "stderr",
     "output_type": "stream",
     "text": [
      "/tmp/ipykernel_532/2617673278.py:45: FutureWarning: Passing literal html to 'read_html' is deprecated and will be removed in a future version. To read from a literal string, wrap it in a 'StringIO' object.\n",
      "  df = pd.read_html(response.text, attrs={\"id\": \"matchlogs_for\"})[0]\n"
     ]
    },
    {
     "name": "stdout",
     "output_type": "stream",
     "text": [
      "Saved data for Norwich-City (2022-2023) to Norwich-City_2022-2023_match_data.csv\n",
      "Fetching data for West-Bromwich-Albion (2018-2019)...\n"
     ]
    },
    {
     "name": "stderr",
     "output_type": "stream",
     "text": [
      "/tmp/ipykernel_532/2617673278.py:45: FutureWarning: Passing literal html to 'read_html' is deprecated and will be removed in a future version. To read from a literal string, wrap it in a 'StringIO' object.\n",
      "  df = pd.read_html(response.text, attrs={\"id\": \"matchlogs_for\"})[0]\n"
     ]
    },
    {
     "name": "stdout",
     "output_type": "stream",
     "text": [
      "Saved data for West-Bromwich-Albion (2018-2019) to West-Bromwich-Albion_2018-2019_match_data.csv\n",
      "Fetching data for West-Bromwich-Albion (2019-2020)...\n"
     ]
    },
    {
     "name": "stderr",
     "output_type": "stream",
     "text": [
      "/tmp/ipykernel_532/2617673278.py:45: FutureWarning: Passing literal html to 'read_html' is deprecated and will be removed in a future version. To read from a literal string, wrap it in a 'StringIO' object.\n",
      "  df = pd.read_html(response.text, attrs={\"id\": \"matchlogs_for\"})[0]\n"
     ]
    },
    {
     "name": "stdout",
     "output_type": "stream",
     "text": [
      "Saved data for West-Bromwich-Albion (2019-2020) to West-Bromwich-Albion_2019-2020_match_data.csv\n",
      "Fetching data for West-Bromwich-Albion (2020-2021)...\n"
     ]
    },
    {
     "name": "stderr",
     "output_type": "stream",
     "text": [
      "/tmp/ipykernel_532/2617673278.py:45: FutureWarning: Passing literal html to 'read_html' is deprecated and will be removed in a future version. To read from a literal string, wrap it in a 'StringIO' object.\n",
      "  df = pd.read_html(response.text, attrs={\"id\": \"matchlogs_for\"})[0]\n"
     ]
    },
    {
     "name": "stdout",
     "output_type": "stream",
     "text": [
      "Saved data for West-Bromwich-Albion (2020-2021) to West-Bromwich-Albion_2020-2021_match_data.csv\n",
      "Fetching data for West-Bromwich-Albion (2021-2022)...\n"
     ]
    },
    {
     "name": "stderr",
     "output_type": "stream",
     "text": [
      "/tmp/ipykernel_532/2617673278.py:45: FutureWarning: Passing literal html to 'read_html' is deprecated and will be removed in a future version. To read from a literal string, wrap it in a 'StringIO' object.\n",
      "  df = pd.read_html(response.text, attrs={\"id\": \"matchlogs_for\"})[0]\n"
     ]
    },
    {
     "name": "stdout",
     "output_type": "stream",
     "text": [
      "Saved data for West-Bromwich-Albion (2021-2022) to West-Bromwich-Albion_2021-2022_match_data.csv\n",
      "Fetching data for West-Bromwich-Albion (2022-2023)...\n"
     ]
    },
    {
     "name": "stderr",
     "output_type": "stream",
     "text": [
      "/tmp/ipykernel_532/2617673278.py:45: FutureWarning: Passing literal html to 'read_html' is deprecated and will be removed in a future version. To read from a literal string, wrap it in a 'StringIO' object.\n",
      "  df = pd.read_html(response.text, attrs={\"id\": \"matchlogs_for\"})[0]\n"
     ]
    },
    {
     "name": "stdout",
     "output_type": "stream",
     "text": [
      "Saved data for West-Bromwich-Albion (2022-2023) to West-Bromwich-Albion_2022-2023_match_data.csv\n"
     ]
    }
   ],
   "source": [
    "import requests\n",
    "import pandas as pd\n",
    "import time\n",
    "\n",
    "# List of team ids and names\n",
    "teams = {\n",
    "    \"822bd0ba\": \"Liverpool\",\n",
    "    \"18bb7c10\": \"Arsenal\",\n",
    "    \"e4a775cb\": \"Nottingham-Forest\",\n",
    "    \"b8fd03ef\": \"Manchester-City\",\n",
    "    \"b2b47a98\": \"Newcastle-United\",\n",
    "    \"cff3d9bb\": \"Chelsea\",\n",
    "    \"4ba7cbea\": \"Bournemouth\",\n",
    "    \"8602292d\": \"Aston-Villa\",\n",
    "    \"d07537b9\": \"Brighton-and-Hove-Albion\",\n",
    "    \"fd962109\": \"Fulham\",\n",
    "    \"cd051869\": \"Brentford\",\n",
    "    \"19538871\": \"Manchester-United\",\n",
    "    \"47c64c55\": \"Crystal-Palace\",\n",
    "    \"7c21e445\": \"West-Ham-United\",\n",
    "    \"361ca564\": \"Tottenham-Hotspur\",\n",
    "    \"d3fd31cc\": \"Everton\",\n",
    "    \"a2d435b3\": \"Leicester-City\",\n",
    "    \"8cec06e1\": \"Wolverhampton-Wanderers\",\n",
    "    \"b74092de\": \"Ipswich-Town\",\n",
    "    \"33c895d4\": \"Southampton\",\n",
    "    \"e297cd13\": \"Luton-Town\",\n",
    "    \"1df6b87e\": \"Sheffield-United\",\n",
    "    \"5bfb9659\": \"Leeds-United\",\n",
    "    \"943e8050\": \"Burnley\",\n",
    "    \"2abfe087\": \"Watford\",\n",
    "    \"1c781004\": \"Norwich-City\",\n",
    "    \"60c6b05f\": \"West-Bromwich-Albion\",\n",
    "}\n",
    "\n",
    "# List of seasons\n",
    "seasons = [\"2018-2019\", \"2019-2020\", \"2020-2021\", \"2021-2022\", \"2022-2023\"]\n",
    "\n",
    "# Function to fetch the match data\n",
    "def fetch_squad_data(team_id, season):\n",
    "    url = f\"https://fbref.com/en/squads/{team_id}/{season}/{teams[team_id]}-Stats\"\n",
    "    try:\n",
    "        response = requests.get(url)\n",
    "        response.raise_for_status()\n",
    "        df = pd.read_html(response.text, attrs={\"id\": \"matchlogs_for\"})[0]\n",
    "        return df\n",
    "    except Exception as e:\n",
    "        print(f\"Error fetching data for {teams[team_id]} ({season}): {e}\")\n",
    "        return None\n",
    "\n",
    "# Loop through all teams and seasons, fetch data and save to CSV\n",
    "for team_id in teams:\n",
    "    for season in seasons:\n",
    "        print(f\"Fetching data for {teams[team_id]} ({season})...\")\n",
    "        df = fetch_squad_data(team_id, season)\n",
    "        \n",
    "        if df is not None:\n",
    "            file_name = f\"{teams[team_id]}_{season}_match_data.csv\"\n",
    "            df.to_csv(file_name, index=False)\n",
    "            print(f\"Saved data for {teams[team_id]} ({season}) to {file_name}\")\n",
    "        time.sleep(5)  # Sleep to avoid rate-limiting\n"
   ]
  },
  {
   "cell_type": "code",
   "execution_count": 6,
   "id": "530f33fb-b027-40c4-b31b-e34e61e5f73a",
   "metadata": {},
   "outputs": [
    {
     "name": "stdout",
     "output_type": "stream",
     "text": [
      "Data successfully merged into merged_match_data.csv\n"
     ]
    }
   ],
   "source": [
    "import os\n",
    "import pandas as pd\n",
    "\n",
    "# Directory where CSV files are stored\n",
    "csv_directory = './SquadData'  # Adjust this to the correct directory where the CSV files are\n",
    "\n",
    "# Initialize an empty dataframe to hold all merged data\n",
    "merged_data = pd.DataFrame()\n",
    "\n",
    "# Loop through CSV files and merge\n",
    "for file_name in os.listdir(csv_directory):\n",
    "    if file_name.endswith('_match_data.csv'):\n",
    "        # Extract the team name from the filename\n",
    "        team_name = file_name.split('_')[0]\n",
    "        \n",
    "        # Load CSV file\n",
    "        df = pd.read_csv(os.path.join(csv_directory, file_name))\n",
    "        \n",
    "        # Add squad name column\n",
    "        df[\"Squad\"] = team_name\n",
    "        \n",
    "        # Append to the merged dataframe\n",
    "        merged_data = pd.concat([merged_data, df], ignore_index=True)\n",
    "\n",
    "# Save the merged data to a new CSV file\n",
    "merged_data.to_csv(\"merged_match_data.csv\", index=False)\n",
    "print(\"Data successfully merged into merged_match_data.csv\")"
   ]
  },
  {
   "cell_type": "code",
   "execution_count": null,
   "id": "fec52c4f-9719-4041-86ee-c6aa874f1695",
   "metadata": {},
   "outputs": [],
   "source": []
  }
 ],
 "metadata": {
  "kernelspec": {
   "display_name": "Python 3 (ipykernel)",
   "language": "python",
   "name": "python3"
  },
  "language_info": {
   "codemirror_mode": {
    "name": "ipython",
    "version": 3
   },
   "file_extension": ".py",
   "mimetype": "text/x-python",
   "name": "python",
   "nbconvert_exporter": "python",
   "pygments_lexer": "ipython3",
   "version": "3.11.6"
  }
 },
 "nbformat": 4,
 "nbformat_minor": 5
}
